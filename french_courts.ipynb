{
 "cells": [
  {
   "cell_type": "markdown",
   "metadata": {},
   "source": [
    "Good:\n",
    "- Metadata from cases.\n",
    "\n",
    "Bad:\n",
    "- There are only 22 full text in English\n",
    "\n",
    "Link: https://www.data.gouv.fr/en/datasets/decisions-publiees-par-lautorite-de-la-concurrence-depuis-1988/#/resources"
   ]
  },
  {
   "cell_type": "code",
   "execution_count": 1,
   "metadata": {},
   "outputs": [
    {
     "name": "stderr",
     "output_type": "stream",
     "text": [
      "C:\\Users\\PC\\AppData\\Local\\Temp\\ipykernel_8876\\4080736814.py:1: DeprecationWarning: \n",
      "Pyarrow will become a required dependency of pandas in the next major release of pandas (pandas 3.0),\n",
      "(to allow more performant data types, such as the Arrow string type, and better interoperability with other libraries)\n",
      "but was not found to be installed on your system.\n",
      "If this would cause problems for you,\n",
      "please provide us feedback at https://github.com/pandas-dev/pandas/issues/54466\n",
      "        \n",
      "  import pandas as pd\n"
     ]
    }
   ],
   "source": [
    "import pandas as pd"
   ]
  },
  {
   "cell_type": "code",
   "execution_count": 2,
   "metadata": {},
   "outputs": [],
   "source": [
    "french_ruling = pd.read_json(r\"D:\\Corporas\\french_competition_case_law.json\")"
   ]
  },
  {
   "cell_type": "code",
   "execution_count": 4,
   "metadata": {},
   "outputs": [
    {
     "name": "stdout",
     "output_type": "stream",
     "text": [
      "<class 'pandas.core.frame.DataFrame'>\n",
      "Index: 715 entries, 0 to 714\n",
      "Data columns (total 21 columns):\n",
      " #   Column                   Non-Null Count  Dtype  \n",
      "---  ------                   --------------  -----  \n",
      " 0   url_site                 715 non-null    object \n",
      " 1   id_decision              715 non-null    object \n",
      " 2   date_decision            715 non-null    object \n",
      " 3   type_decision            715 non-null    object \n",
      " 4   companies_involved       715 non-null    object \n",
      " 5   date_decision_datetime   715 non-null    object \n",
      " 6   date_decision_year       715 non-null    int64  \n",
      " 7   full_text_decision       22 non-null     object \n",
      " 8   Decision                 79 non-null     object \n",
      " 9   notifying_party          50 non-null     object \n",
      " 10  simplified_procedure     78 non-null     object \n",
      " 11  decision_phase           78 non-null     object \n",
      " 12  type_transaction         78 non-null     object \n",
      " 13  case_origin              1 non-null      object \n",
      " 14  sector_of_activity       715 non-null    object \n",
      " 15  title_decision           715 non-null    object \n",
      " 16  full_text_press_release  252 non-null    object \n",
      " 17  legal_ground             314 non-null    object \n",
      " 18  procedures               0 non-null      float64\n",
      " 19  interim_measures         7 non-null      object \n",
      " 20  sector_inquiry           0 non-null      float64\n",
      "dtypes: float64(2), int64(1), object(18)\n",
      "memory usage: 122.9+ KB\n"
     ]
    }
   ],
   "source": [
    "french_ruling.info()"
   ]
  },
  {
   "cell_type": "code",
   "execution_count": 9,
   "metadata": {},
   "outputs": [
    {
     "name": "stderr",
     "output_type": "stream",
     "text": [
      "C:\\Users\\PC\\AppData\\Local\\Temp\\ipykernel_8876\\585647761.py:2: SettingWithCopyWarning: \n",
      "A value is trying to be set on a copy of a slice from a DataFrame\n",
      "\n",
      "See the caveats in the documentation: https://pandas.pydata.org/pandas-docs/stable/user_guide/indexing.html#returning-a-view-versus-a-copy\n",
      "  full_text_decision.dropna(inplace=True)\n"
     ]
    },
    {
     "data": {
      "text/html": [
       "<div>\n",
       "<style scoped>\n",
       "    .dataframe tbody tr th:only-of-type {\n",
       "        vertical-align: middle;\n",
       "    }\n",
       "\n",
       "    .dataframe tbody tr th {\n",
       "        vertical-align: top;\n",
       "    }\n",
       "\n",
       "    .dataframe thead th {\n",
       "        text-align: right;\n",
       "    }\n",
       "</style>\n",
       "<table border=\"1\" class=\"dataframe\">\n",
       "  <thead>\n",
       "    <tr style=\"text-align: right;\">\n",
       "      <th></th>\n",
       "      <th>full_text_decision</th>\n",
       "    </tr>\n",
       "  </thead>\n",
       "  <tbody>\n",
       "    <tr>\n",
       "      <th>14</th>\n",
       "      <td>RÉPUBLIQUE FRANÇAISE Decision n° 18-DCC-18 of ...</td>\n",
       "    </tr>\n",
       "    <tr>\n",
       "      <th>229</th>\n",
       "      <td>RÉPUBLIQUE FRANÇAISE Decision No 10-D-28 of 2...</td>\n",
       "    </tr>\n",
       "    <tr>\n",
       "      <th>233</th>\n",
       "      <td>1 RÉPUBLIQUE FRANÇAISEOpinion No 10-A-25 of 7...</td>\n",
       "    </tr>\n",
       "    <tr>\n",
       "      <th>252</th>\n",
       "      <td>RÉPUBLIQUE FRANÇAISE Decision no. 12-D-17 of 5...</td>\n",
       "    </tr>\n",
       "    <tr>\n",
       "      <th>254</th>\n",
       "      <td>RÉPUBLIQUE FRANÇAISE PUBLIC VERSION Decision n...</td>\n",
       "    </tr>\n",
       "    <tr>\n",
       "      <th>256</th>\n",
       "      <td>RÉPUBLIQUE FRANÇAISE Opinion no. 12-A-21 of 8...</td>\n",
       "    </tr>\n",
       "    <tr>\n",
       "      <th>322</th>\n",
       "      <td>RÉPUBLIQUE FRANÇAISE Only the French version ...</td>\n",
       "    </tr>\n",
       "    <tr>\n",
       "      <th>329</th>\n",
       "      <td>RÉPUBLIQUE FRANÇAISE Only the French version i...</td>\n",
       "    </tr>\n",
       "    <tr>\n",
       "      <th>336</th>\n",
       "      <td>RÉPUBLIQUE FRANÇAISE Decision 19-MC-01 of 31 ...</td>\n",
       "    </tr>\n",
       "    <tr>\n",
       "      <th>337</th>\n",
       "      <td>RÉPUBLIQUE FRANÇAISE Only the French version ...</td>\n",
       "    </tr>\n",
       "    <tr>\n",
       "      <th>345</th>\n",
       "      <td>RÉPUBLIQUE FRANÇAISE Opinion 19-A-13 of 11 Ju...</td>\n",
       "    </tr>\n",
       "    <tr>\n",
       "      <th>355</th>\n",
       "      <td>RÉPUBLIQUE FRANÇAISE 1 Only the French version...</td>\n",
       "    </tr>\n",
       "    <tr>\n",
       "      <th>362</th>\n",
       "      <td>RÉPUBLIQUE FRANÇAISE Only the French version i...</td>\n",
       "    </tr>\n",
       "    <tr>\n",
       "      <th>366</th>\n",
       "      <td>RÉPUBLIQUE FRANÇAISE Only the French version i...</td>\n",
       "    </tr>\n",
       "    <tr>\n",
       "      <th>391</th>\n",
       "      <td>RÉPUBLIQUE FRANÇAISE The English version is di...</td>\n",
       "    </tr>\n",
       "    <tr>\n",
       "      <th>395</th>\n",
       "      <td>RÉPUBLIQUE FRANÇAISE Opinion 21-A-05 of 29 Ap...</td>\n",
       "    </tr>\n",
       "    <tr>\n",
       "      <th>397</th>\n",
       "      <td>RÉPUBLIQUE FRANÇAISE *Public version The Engli...</td>\n",
       "    </tr>\n",
       "    <tr>\n",
       "      <th>401</th>\n",
       "      <td>RÉPUBLIQUE FRANÇAISE * public version Only the...</td>\n",
       "    </tr>\n",
       "    <tr>\n",
       "      <th>411</th>\n",
       "      <td>RÉPUBLIQUE FRANÇAISE * public version Only the...</td>\n",
       "    </tr>\n",
       "    <tr>\n",
       "      <th>412</th>\n",
       "      <td>RÉPUBLIQUE FRANÇAISE ONLY THE FRENCH VERSION I...</td>\n",
       "    </tr>\n",
       "    <tr>\n",
       "      <th>416</th>\n",
       "      <td>RÉPUBLIQUE FRANÇAISE Only the French version i...</td>\n",
       "    </tr>\n",
       "    <tr>\n",
       "      <th>417</th>\n",
       "      <td>of 29 June 2023on competition in the cloud sec...</td>\n",
       "    </tr>\n",
       "  </tbody>\n",
       "</table>\n",
       "</div>"
      ],
      "text/plain": [
       "                                    full_text_decision\n",
       "14   RÉPUBLIQUE FRANÇAISE Decision n° 18-DCC-18 of ...\n",
       "229   RÉPUBLIQUE FRANÇAISE Decision No 10-D-28 of 2...\n",
       "233   1 RÉPUBLIQUE FRANÇAISEOpinion No 10-A-25 of 7...\n",
       "252  RÉPUBLIQUE FRANÇAISE Decision no. 12-D-17 of 5...\n",
       "254  RÉPUBLIQUE FRANÇAISE PUBLIC VERSION Decision n...\n",
       "256   RÉPUBLIQUE FRANÇAISE Opinion no. 12-A-21 of 8...\n",
       "322   RÉPUBLIQUE FRANÇAISE Only the French version ...\n",
       "329  RÉPUBLIQUE FRANÇAISE Only the French version i...\n",
       "336   RÉPUBLIQUE FRANÇAISE Decision 19-MC-01 of 31 ...\n",
       "337   RÉPUBLIQUE FRANÇAISE Only the French version ...\n",
       "345   RÉPUBLIQUE FRANÇAISE Opinion 19-A-13 of 11 Ju...\n",
       "355  RÉPUBLIQUE FRANÇAISE 1 Only the French version...\n",
       "362  RÉPUBLIQUE FRANÇAISE Only the French version i...\n",
       "366  RÉPUBLIQUE FRANÇAISE Only the French version i...\n",
       "391  RÉPUBLIQUE FRANÇAISE The English version is di...\n",
       "395   RÉPUBLIQUE FRANÇAISE Opinion 21-A-05 of 29 Ap...\n",
       "397  RÉPUBLIQUE FRANÇAISE *Public version The Engli...\n",
       "401  RÉPUBLIQUE FRANÇAISE * public version Only the...\n",
       "411  RÉPUBLIQUE FRANÇAISE * public version Only the...\n",
       "412  RÉPUBLIQUE FRANÇAISE ONLY THE FRENCH VERSION I...\n",
       "416  RÉPUBLIQUE FRANÇAISE Only the French version i...\n",
       "417  of 29 June 2023on competition in the cloud sec..."
      ]
     },
     "execution_count": 9,
     "metadata": {},
     "output_type": "execute_result"
    }
   ],
   "source": [
    "full_text_decision = french_ruling[['full_text_decision']]\n",
    "full_text_decision.dropna(inplace=True)\n",
    "full_text_decision"
   ]
  }
 ],
 "metadata": {
  "kernelspec": {
   "display_name": "competition_nllp",
   "language": "python",
   "name": "python3"
  },
  "language_info": {
   "codemirror_mode": {
    "name": "ipython",
    "version": 3
   },
   "file_extension": ".py",
   "mimetype": "text/x-python",
   "name": "python",
   "nbconvert_exporter": "python",
   "pygments_lexer": "ipython3",
   "version": "3.9.18"
  }
 },
 "nbformat": 4,
 "nbformat_minor": 2
}
